{
  "nbformat": 4,
  "nbformat_minor": 0,
  "metadata": {
    "colab": {
      "name": "casestudy3.ipynb",
      "provenance": [],
      "collapsed_sections": []
    },
    "kernelspec": {
      "name": "python3",
      "display_name": "Python 3"
    },
    "language_info": {
      "name": "python"
    }
  },
  "cells": [
    {
      "cell_type": "markdown",
      "source": [
        "1**.First of all, check whether there is any relationship between the amount** spent for advertising through five different companies and  profit\n",
        "generated. "
      ],
      "metadata": {
        "id": "4fZ9mCcz01cF"
      }
    },
    {
      "cell_type": "code",
      "source": [
        "data=pd.read_csv(\"/content/Add_sales_data_2018 (1).csv\")"
      ],
      "metadata": {
        "id": "_UkCSFqd1EQT"
      },
      "execution_count": null,
      "outputs": []
    },
    {
      "cell_type": "code",
      "execution_count": null,
      "metadata": {
        "id": "X4FHaHPN0Ina"
      },
      "outputs": [],
      "source": [
        "import numpy as np\n",
        "import pandas as pd\n",
        "import matplotlib.pyplot as plt\n",
        "import seaborn as sns"
      ]
    },
    {
      "cell_type": "code",
      "source": [
        "data.head"
      ],
      "metadata": {
        "colab": {
          "base_uri": "https://localhost:8080/"
        },
        "id": "lNkexHPd1Wv7",
        "outputId": "696c6c65-2ccc-41d7-b7ef-730c60fbf1bf"
      },
      "execution_count": null,
      "outputs": [
        {
          "output_type": "execute_result",
          "data": {
            "text/plain": [
              "<bound method NDFrame.head of            Date  Add1(in Thousands)  ...  Add5(in Thousands)  Profit(in Thousands)\n",
              "0    2018-10-08              208.00  ...              215.15              4093.065\n",
              "1    2018-10-05              217.00  ...              209.20              4042.448\n",
              "2    2018-10-04              223.50  ...              218.20              4213.819\n",
              "3    2018-10-03              230.00  ...              227.60              4391.665\n",
              "4    2018-10-01              234.55  ...              230.90              4350.683\n",
              "..          ...                 ...  ...                 ...                   ...\n",
              "200  2017-12-14              288.00  ...              284.30              5374.105\n",
              "201  2017-12-13              290.00  ...              284.45              5439.655\n",
              "202  2017-12-12              298.60  ...              287.80              5545.013\n",
              "203  2017-12-11              290.00  ...              298.35              5565.444\n",
              "204  2017-12-08              287.55  ...              288.45              5421.842\n",
              "\n",
              "[205 rows x 7 columns]>"
            ]
          },
          "metadata": {},
          "execution_count": 3
        }
      ]
    },
    {
      "cell_type": "code",
      "source": [
        "corrmatrix=data.corr()\n",
        "plt.subplots(figsize=(10,4))\n",
        "sns.heatmap(corrmatrix,vmin=-2,vmax=2,annot=True,linewidth=0.8,cmap=\"YlGnBu\")"
      ],
      "metadata": {
        "colab": {
          "base_uri": "https://localhost:8080/",
          "height": 378
        },
        "id": "1Q8cm-TG2Atc",
        "outputId": "9df4a093-191f-4608-bec4-1fd7619e2f50"
      },
      "execution_count": null,
      "outputs": [
        {
          "output_type": "execute_result",
          "data": {
            "text/plain": [
              "<matplotlib.axes._subplots.AxesSubplot at 0x7f3d97ec1e90>"
            ]
          },
          "metadata": {},
          "execution_count": 13
        },
        {
          "output_type": "display_data",
          "data": {
            "image/png": "[encoded data removed]",
            "text/plain": [
              "<Figure size 720x288 with 2 Axes>"
            ]
          },
          "metadata": {
            "needs_background": "light"
          }
        }
      ]
    },
    {
      "cell_type": "markdown",
      "source": [
        "The correlation matrix shows that there is a high correlation between the amount spent for advertising through five different companies and profit generated."
      ],
      "metadata": {
        "id": "RgoGEiF15-OM"
      }
    },
    {
      "cell_type": "markdown",
      "source": [
        "2. Build a regression model to predict the profit from the given data and\n",
        "comment your findings on it."
      ],
      "metadata": {
        "id": "uXrt81OE9fq4"
      }
    },
    {
      "cell_type": "code",
      "source": [
        "y=data['Profit(in Thousands)']\n",
        "x=data.drop(['Profit(in Thousands)','Date'],axis=1)\n"
      ],
      "metadata": {
        "id": "-M3jKjgd8GMw"
      },
      "execution_count": null,
      "outputs": []
    },
    {
      "cell_type": "code",
      "metadata": {
        "id": "M3UqbpdzrXhJ"
      },
      "source": [
        "from sklearn.model_selection import train_test_split"
      ],
      "execution_count": null,
      "outputs": []
    },
    {
      "cell_type": "code",
      "metadata": {
        "id": "nV2XJQCYrf6U"
      },
      "source": [
        "x_train, x_test, y_train, y_test = train_test_split(x, y, random_state=42, test_size=0.25)"
      ],
      "execution_count": null,
      "outputs": []
    },
    {
      "cell_type": "code",
      "metadata": {
        "id": "Hv3PUtWVsCTM"
      },
      "source": [
        "from sklearn import linear_model"
      ],
      "execution_count": null,
      "outputs": []
    },
    {
      "cell_type": "code",
      "source": [
        "lr=linear_model.LinearRegression()\n",
        "model=lr.fit(x_train,y_train)\n",
        "predictions=model.predict(x_test)\n",
        "print(y_test)\n",
        "print(predictions)"
      ],
      "metadata": {
        "colab": {
          "base_uri": "https://localhost:8080/"
        },
        "id": "cZP6yG21CWrN",
        "outputId": "6296dd39-f2bb-4834-9379-6af0a75e5bce"
      },
      "execution_count": null,
      "outputs": [
        {
          "output_type": "stream",
          "name": "stdout",
          "text": [
            "15     4152.066\n",
            "9      4446.441\n",
            "100    5131.898\n",
            "132    4907.560\n",
            "68     5004.282\n",
            "95     4623.793\n",
            "159    5384.175\n",
            "162    5328.025\n",
            "147    5175.051\n",
            "182    5956.323\n",
            "191    5780.799\n",
            "164    4997.719\n",
            "65     5075.858\n",
            "175    5784.540\n",
            "73     4936.120\n",
            "152    5065.652\n",
            "18     4190.965\n",
            "82     5034.726\n",
            "86     5015.536\n",
            "143    5134.657\n",
            "60     5145.131\n",
            "101    5421.940\n",
            "98     4569.293\n",
            "30     4598.292\n",
            "25     4436.321\n",
            "16     4175.677\n",
            "168    5616.791\n",
            "195    5667.250\n",
            "97     4648.834\n",
            "194    5717.838\n",
            "67     5001.615\n",
            "120    5182.368\n",
            "154    5017.503\n",
            "202    5545.013\n",
            "79     5013.207\n",
            "69     5030.451\n",
            "145    5108.626\n",
            "55     4760.877\n",
            "45     4606.340\n",
            "84     4925.861\n",
            "146    5250.788\n",
            "66     5038.222\n",
            "111    5491.792\n",
            "153    5019.997\n",
            "96     4647.356\n",
            "38     4486.380\n",
            "24     4435.174\n",
            "139    5300.437\n",
            "112    5425.190\n",
            "29     4482.183\n",
            "19     4193.095\n",
            "178    6062.457\n",
            "Name: Profit(in Thousands), dtype: float64\n",
            "[4152.066 4446.441 5131.898 4907.56  5004.282 4623.793 5384.175 5328.025\n",
            " 5175.051 5956.323 5780.799 4997.719 5075.858 5784.54  4936.12  5065.652\n",
            " 4190.965 5034.726 5015.536 5134.657 5145.131 5421.94  4569.293 4598.292\n",
            " 4436.321 4175.677 5616.791 5667.25  4648.834 5717.838 5001.615 5182.368\n",
            " 5017.503 5545.013 5013.207 5030.451 5108.626 4760.877 4606.34  4925.861\n",
            " 5250.788 5038.222 5491.792 5019.997 4647.356 4486.38  4435.174 5300.437\n",
            " 5425.19  4482.183 4193.095 6062.457]\n"
          ]
        }
      ]
    },
    {
      "cell_type": "code",
      "metadata": {
        "id": "PcpxSJ4Mt9cB",
        "colab": {
          "base_uri": "https://localhost:8080/"
        },
        "outputId": "e2bcee17-3390-4a9c-898d-191910cf5655"
      },
      "source": [
        "from sklearn.metrics import mean_squared_error\n",
        "print(mean_squared_error(y_test,predictions))"
      ],
      "execution_count": null,
      "outputs": [
        {
          "output_type": "stream",
          "name": "stdout",
          "text": [
            "4.931269036373819e-25\n"
          ]
        }
      ]
    }
  ]
}